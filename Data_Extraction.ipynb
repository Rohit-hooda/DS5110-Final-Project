{
  "nbformat": 4,
  "nbformat_minor": 0,
  "metadata": {
    "colab": {
      "provenance": [],
      "authorship_tag": "ABX9TyPgmHkeMKXLHw4vkgRxnAfT",
      "include_colab_link": true
    },
    "kernelspec": {
      "name": "python3",
      "display_name": "Python 3"
    },
    "language_info": {
      "name": "python"
    }
  },
  "cells": [
    {
      "cell_type": "markdown",
      "metadata": {
        "id": "view-in-github",
        "colab_type": "text"
      },
      "source": [
        "<a href=\"https://colab.research.google.com/github/Rohit-hooda/DS5110-Final-Project/blob/main/Data_Extraction.ipynb\" target=\"_parent\"><img src=\"https://colab.research.google.com/assets/colab-badge.svg\" alt=\"Open In Colab\"/></a>"
      ]
    },
    {
      "cell_type": "code",
      "source": [
        "pip install openmeteo-requests"
      ],
      "metadata": {
        "id": "O-ipompPXgZ0"
      },
      "execution_count": null,
      "outputs": []
    },
    {
      "cell_type": "code",
      "source": [
        "pip install requests-cache retry-requests numpy pandas"
      ],
      "metadata": {
        "id": "sDFU5uoiXc3O"
      },
      "execution_count": null,
      "outputs": []
    },
    {
      "cell_type": "code",
      "execution_count": 6,
      "metadata": {
        "colab": {
          "base_uri": "https://localhost:8080/"
        },
        "id": "kkNZEyIxUmzM",
        "outputId": "e55b1bb7-b893-436a-d533-f15bc663c0d9"
      },
      "outputs": [
        {
          "output_type": "stream",
          "name": "stdout",
          "text": [
            "Data has been saved to massachusetts_counties_weather_data.csv\n"
          ]
        }
      ],
      "source": [
        "import openmeteo_requests\n",
        "import requests_cache\n",
        "import pandas as pd\n",
        "from retry_requests import retry\n",
        "\n",
        "# Setup the Open-Meteo API client with cache and retry on error\n",
        "cache_session = requests_cache.CachedSession('.cache', expire_after=3600)\n",
        "retry_session = retry(cache_session, retries=5, backoff_factor=0.2)\n",
        "openmeteo = openmeteo_requests.Client(session=retry_session)\n",
        "\n",
        "# List of coordinates (latitude and longitude) for each county\n",
        "coordinates_list = [\n",
        "    {\"latitude\": 41.7003, \"longitude\": -70.3002, \"county\": \"Barnstable\"},\n",
        "    {\"latitude\": 42.3118, \"longitude\": -73.1822, \"county\": \"Berkshire\"},\n",
        "    {\"latitude\": 41.7938, \"longitude\": -71.1350, \"county\": \"Bristol\"},\n",
        "    {\"latitude\": 41.4033, \"longitude\": -70.6693, \"county\": \"Dukes\"},\n",
        "    {\"latitude\": 42.6334, \"longitude\": -70.7829, \"county\": \"Essex\"},\n",
        "    {\"latitude\": 42.5795, \"longitude\": -72.6151, \"county\": \"Franklin\"},\n",
        "    {\"latitude\": 42.1175, \"longitude\": -72.6009, \"county\": \"Hampden\"},\n",
        "    {\"latitude\": 42.3389, \"longitude\": -72.6417, \"county\": \"Hampshire\"},\n",
        "    {\"latitude\": 42.4672, \"longitude\": -71.2874, \"county\": \"Middlesex\"},\n",
        "    {\"latitude\": 41.2835, \"longitude\": -70.0995, \"county\": \"Nantucket\"},\n",
        "    {\"latitude\": 42.1621, \"longitude\": -71.1912, \"county\": \"Norfolk\"},\n",
        "    {\"latitude\": 41.9880, \"longitude\": -70.7528, \"county\": \"Plymouth\"},\n",
        "    {\"latitude\": 42.3601, \"longitude\": -71.0589, \"county\": \"Suffolk\"},\n",
        "    {\"latitude\": 42.4002, \"longitude\": -71.9065, \"county\": \"Worcester\"}\n",
        "]\n",
        "\n",
        "# List to store each DataFrame for each location\n",
        "all_dataframes = []\n",
        "\n",
        "# Function to fetch and process weather data for a given set of coordinates\n",
        "def fetch_weather_data(latitude, longitude, county_name):\n",
        "    url = \"https://historical-forecast-api.open-meteo.com/v1/forecast\"\n",
        "    params = {\n",
        "        \"latitude\": latitude,\n",
        "        \"longitude\": longitude,\n",
        "        \"start_date\": \"2024-01-01\",\n",
        "        \"end_date\": \"2024-10-30\",\n",
        "        \"daily\": [\"weather_code\", \"temperature_2m_max\", \"temperature_2m_min\", \"sunrise\", \"sunset\",\n",
        "                  \"daylight_duration\", \"sunshine_duration\", \"uv_index_max\", \"uv_index_clear_sky_max\",\n",
        "                  \"precipitation_sum\", \"rain_sum\", \"showers_sum\", \"snowfall_sum\",\n",
        "                  \"precipitation_hours\", \"precipitation_probability_max\", \"wind_speed_10m_max\", \"wind_gusts_10m_max\"],\n",
        "        \"timezone\": \"America/New_York\"\n",
        "    }\n",
        "    responses = openmeteo.weather_api(url, params=params)\n",
        "\n",
        "    # Process the response for the given coordinates\n",
        "    response = responses[0]\n",
        "\n",
        "    # Process daily data\n",
        "    daily = response.Daily()\n",
        "    daily_data = {\n",
        "        \"date\": pd.date_range(\n",
        "            start=pd.to_datetime(daily.Time(), unit=\"s\", utc=True),\n",
        "            end=pd.to_datetime(daily.TimeEnd(), unit=\"s\", utc=True),\n",
        "            freq=pd.Timedelta(seconds=daily.Interval()),\n",
        "            inclusive=\"left\"\n",
        "        ),\n",
        "        \"county\": county_name,\n",
        "        \"latitude\": latitude,\n",
        "        \"longitude\": longitude,\n",
        "        \"weather_code\": daily.Variables(0).ValuesAsNumpy(),\n",
        "        \"temperature_2m_max\": daily.Variables(1).ValuesAsNumpy(),\n",
        "        \"temperature_2m_min\": daily.Variables(2).ValuesAsNumpy(),\n",
        "        \"sunrise\": daily.Variables(3).ValuesAsNumpy(),\n",
        "        \"sunset\": daily.Variables(4).ValuesAsNumpy(),\n",
        "        \"daylight_duration\": daily.Variables(5).ValuesAsNumpy(),\n",
        "        \"sunshine_duration\": daily.Variables(6).ValuesAsNumpy(),\n",
        "        \"uv_index_max\": daily.Variables(7).ValuesAsNumpy(),\n",
        "        \"uv_index_clear_sky_max\": daily.Variables(8).ValuesAsNumpy(),\n",
        "        \"precipitation_sum\": daily.Variables(9).ValuesAsNumpy(),\n",
        "        \"rain_sum\": daily.Variables(10).ValuesAsNumpy(),\n",
        "        \"showers_sum\": daily.Variables(11).ValuesAsNumpy(),\n",
        "        \"snowfall_sum\": daily.Variables(12).ValuesAsNumpy(),\n",
        "        \"precipitation_hours\": daily.Variables(13).ValuesAsNumpy(),\n",
        "        \"precipitation_probability_max\": daily.Variables(14).ValuesAsNumpy(),\n",
        "        \"wind_speed_10m_max\": daily.Variables(15).ValuesAsNumpy(),\n",
        "        \"wind_gusts_10m_max\": daily.Variables(16).ValuesAsNumpy()\n",
        "    }\n",
        "\n",
        "    # Convert to DataFrame and add to list\n",
        "    daily_dataframe = pd.DataFrame(data=daily_data)\n",
        "    all_dataframes.append(daily_dataframe)\n",
        "\n",
        "# Loop through each set of coordinates and fetch weather data\n",
        "for coords in coordinates_list:\n",
        "    fetch_weather_data(coords[\"latitude\"], coords[\"longitude\"], coords[\"county\"])\n",
        "\n",
        "# Combine all dataframes into a single dataframe\n",
        "final_dataframe = pd.concat(all_dataframes, ignore_index=True)\n",
        "\n",
        "# Export to CSV\n",
        "final_dataframe.to_csv(\"massachusetts_counties_weather_data.csv\", index=False)\n",
        "print(\"Data has been saved to massachusetts_counties_weather_data.csv\")\n"
      ]
    }
  ]
}