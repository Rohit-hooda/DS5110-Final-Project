{
  "nbformat": 4,
  "nbformat_minor": 0,
  "metadata": {
    "colab": {
      "provenance": [],
      "mount_file_id": "1ELGgZx_YSEIlqtYZKWjWvUyJAPrbrt-C",
      "authorship_tag": "ABX9TyPc011L7mdjb2IrT5maRdr6",
      "include_colab_link": true
    },
    "kernelspec": {
      "name": "python3",
      "display_name": "Python 3"
    },
    "language_info": {
      "name": "python"
    }
  },
  "cells": [
    {
      "cell_type": "markdown",
      "metadata": {
        "id": "view-in-github",
        "colab_type": "text"
      },
      "source": [
        "<a href=\"https://colab.research.google.com/github/Rohit-hooda/DS5110-Final-Project/blob/main/Data_Extraction.ipynb\" target=\"_parent\"><img src=\"https://colab.research.google.com/assets/colab-badge.svg\" alt=\"Open In Colab\"/></a>"
      ]
    },
    {
      "cell_type": "code",
      "source": [
        "pip install openmeteo-requests"
      ],
      "metadata": {
        "id": "O-ipompPXgZ0"
      },
      "execution_count": null,
      "outputs": []
    },
    {
      "cell_type": "code",
      "source": [
        "pip install requests-cache retry-requests numpy pandas"
      ],
      "metadata": {
        "id": "sDFU5uoiXc3O"
      },
      "execution_count": null,
      "outputs": []
    },
    {
      "cell_type": "code",
      "execution_count": 6,
      "metadata": {
        "colab": {
          "base_uri": "https://localhost:8080/"
        },
        "id": "kkNZEyIxUmzM",
        "outputId": "e55b1bb7-b893-436a-d533-f15bc663c0d9"
      },
      "outputs": [
        {
          "output_type": "stream",
          "name": "stdout",
          "text": [
            "Data has been saved to massachusetts_counties_weather_data.csv\n"
          ]
        }
      ],
      "source": [
        "import openmeteo_requests\n",
        "import requests_cache\n",
        "import pandas as pd\n",
        "from retry_requests import retry\n",
        "\n",
        "# Setup the Open-Meteo API client with cache and retry on error\n",
        "cache_session = requests_cache.CachedSession('.cache', expire_after=3600)\n",
        "retry_session = retry(cache_session, retries=5, backoff_factor=0.2)\n",
        "openmeteo = openmeteo_requests.Client(session=retry_session)\n",
        "\n",
        "# List of coordinates (latitude and longitude) for each county\n",
        "coordinates_list = [\n",
        "    {\"latitude\": 41.7003, \"longitude\": -70.3002, \"county\": \"Barnstable\"},\n",
        "    {\"latitude\": 42.3118, \"longitude\": -73.1822, \"county\": \"Berkshire\"},\n",
        "    {\"latitude\": 41.7938, \"longitude\": -71.1350, \"county\": \"Bristol\"},\n",
        "    {\"latitude\": 41.4033, \"longitude\": -70.6693, \"county\": \"Dukes\"},\n",
        "    {\"latitude\": 42.6334, \"longitude\": -70.7829, \"county\": \"Essex\"},\n",
        "    {\"latitude\": 42.5795, \"longitude\": -72.6151, \"county\": \"Franklin\"},\n",
        "    {\"latitude\": 42.1175, \"longitude\": -72.6009, \"county\": \"Hampden\"},\n",
        "    {\"latitude\": 42.3389, \"longitude\": -72.6417, \"county\": \"Hampshire\"},\n",
        "    {\"latitude\": 42.4672, \"longitude\": -71.2874, \"county\": \"Middlesex\"},\n",
        "    {\"latitude\": 41.2835, \"longitude\": -70.0995, \"county\": \"Nantucket\"},\n",
        "    {\"latitude\": 42.1621, \"longitude\": -71.1912, \"county\": \"Norfolk\"},\n",
        "    {\"latitude\": 41.9880, \"longitude\": -70.7528, \"county\": \"Plymouth\"},\n",
        "    {\"latitude\": 42.3601, \"longitude\": -71.0589, \"county\": \"Suffolk\"},\n",
        "    {\"latitude\": 42.4002, \"longitude\": -71.9065, \"county\": \"Worcester\"}\n",
        "]\n",
        "\n",
        "# List to store each DataFrame for each location\n",
        "all_dataframes = []\n",
        "\n",
        "# Function to fetch and process weather data for a given set of coordinates\n",
        "def fetch_weather_data(latitude, longitude, county_name):\n",
        "    url = \"https://historical-forecast-api.open-meteo.com/v1/forecast\"\n",
        "    params = {\n",
        "        \"latitude\": latitude,\n",
        "        \"longitude\": longitude,\n",
        "        \"start_date\": \"2024-01-01\",\n",
        "        \"end_date\": \"2024-10-30\",\n",
        "        \"daily\": [\"weather_code\", \"temperature_2m_max\", \"temperature_2m_min\", \"sunrise\", \"sunset\",\n",
        "                  \"daylight_duration\", \"sunshine_duration\", \"uv_index_max\", \"uv_index_clear_sky_max\",\n",
        "                  \"precipitation_sum\", \"rain_sum\", \"showers_sum\", \"snowfall_sum\",\n",
        "                  \"precipitation_hours\", \"precipitation_probability_max\", \"wind_speed_10m_max\", \"wind_gusts_10m_max\"],\n",
        "        \"timezone\": \"America/New_York\"\n",
        "    }\n",
        "    responses = openmeteo.weather_api(url, params=params)\n",
        "\n",
        "    # Process the response for the given coordinates\n",
        "    response = responses[0]\n",
        "\n",
        "    # Process daily data\n",
        "    daily = response.Daily()\n",
        "    daily_data = {\n",
        "        \"date\": pd.date_range(\n",
        "            start=pd.to_datetime(daily.Time(), unit=\"s\", utc=True),\n",
        "            end=pd.to_datetime(daily.TimeEnd(), unit=\"s\", utc=True),\n",
        "            freq=pd.Timedelta(seconds=daily.Interval()),\n",
        "            inclusive=\"left\"\n",
        "        ),\n",
        "        \"county\": county_name,\n",
        "        \"latitude\": latitude,\n",
        "        \"longitude\": longitude,\n",
        "        \"weather_code\": daily.Variables(0).ValuesAsNumpy(),\n",
        "        \"temperature_2m_max\": daily.Variables(1).ValuesAsNumpy(),\n",
        "        \"temperature_2m_min\": daily.Variables(2).ValuesAsNumpy(),\n",
        "        \"sunrise\": daily.Variables(3).ValuesAsNumpy(),\n",
        "        \"sunset\": daily.Variables(4).ValuesAsNumpy(),\n",
        "        \"daylight_duration\": daily.Variables(5).ValuesAsNumpy(),\n",
        "        \"sunshine_duration\": daily.Variables(6).ValuesAsNumpy(),\n",
        "        \"uv_index_max\": daily.Variables(7).ValuesAsNumpy(),\n",
        "        \"uv_index_clear_sky_max\": daily.Variables(8).ValuesAsNumpy(),\n",
        "        \"precipitation_sum\": daily.Variables(9).ValuesAsNumpy(),\n",
        "        \"rain_sum\": daily.Variables(10).ValuesAsNumpy(),\n",
        "        \"showers_sum\": daily.Variables(11).ValuesAsNumpy(),\n",
        "        \"snowfall_sum\": daily.Variables(12).ValuesAsNumpy(),\n",
        "        \"precipitation_hours\": daily.Variables(13).ValuesAsNumpy(),\n",
        "        \"precipitation_probability_max\": daily.Variables(14).ValuesAsNumpy(),\n",
        "        \"wind_speed_10m_max\": daily.Variables(15).ValuesAsNumpy(),\n",
        "        \"wind_gusts_10m_max\": daily.Variables(16).ValuesAsNumpy()\n",
        "    }\n",
        "\n",
        "    # Convert to DataFrame and add to list\n",
        "    daily_dataframe = pd.DataFrame(data=daily_data)\n",
        "    all_dataframes.append(daily_dataframe)\n",
        "\n",
        "# Loop through each set of coordinates and fetch weather data\n",
        "for coords in coordinates_list:\n",
        "    fetch_weather_data(coords[\"latitude\"], coords[\"longitude\"], coords[\"county\"])\n",
        "\n",
        "# Combine all dataframes into a single dataframe\n",
        "final_dataframe = pd.concat(all_dataframes, ignore_index=True)\n",
        "\n",
        "# Export to CSV\n",
        "final_dataframe.to_csv(\"massachusetts_counties_weather_data.csv\", index=False)\n",
        "print(\"Data has been saved to massachusetts_counties_weather_data.csv\")\n"
      ]
    },
    {
      "cell_type": "code",
      "source": [
        "import pandas as pd\n",
        "import json\n",
        "\n",
        "# Load the JSON file\n",
        "json_file_path = 'data.json'\n",
        "with open(json_file_path, 'r') as file:\n",
        "    data = json.load(file)\n",
        "\n",
        "# Extract the list of air quality entries from the JSON data\n",
        "entries = data[\"list\"]\n",
        "\n",
        "# Create an empty DataFrame with the desired columns\n",
        "df = pd.DataFrame(columns=[\"dt\", \"aqi\", \"co\", \"no\", \"no2\", \"o3\", \"so2\", \"pm2_5\", \"pm10\", \"nh3\"])\n",
        "\n",
        "# Populate the DataFrame\n",
        "rows = []  # List to collect row dictionaries\n",
        "\n",
        "for entry in entries:\n",
        "    # Extract each required field\n",
        "    row = {\n",
        "        \"dt\": pd.to_datetime(entry[\"dt\"], unit='s', utc=True),  # Convert to UTC datetime\n",
        "        \"aqi\": entry[\"main\"][\"aqi\"],\n",
        "        \"co\": entry[\"components\"].get(\"co\", \"\"),\n",
        "        \"no\": entry[\"components\"].get(\"no\", \"\"),\n",
        "        \"no2\": entry[\"components\"].get(\"no2\", \"\"),\n",
        "        \"o3\": entry[\"components\"].get(\"o3\", \"\"),\n",
        "        \"so2\": entry[\"components\"].get(\"so2\", \"\"),\n",
        "        \"pm2_5\": entry[\"components\"].get(\"pm2_5\", \"\"),\n",
        "        \"pm10\": entry[\"components\"].get(\"pm10\", \"\"),\n",
        "        \"nh3\": entry[\"components\"].get(\"nh3\", \"\")\n",
        "    }\n",
        "    rows.append(row)  # Collect each row dictionary\n",
        "\n",
        "# Create DataFrame from the collected rows\n",
        "df = pd.DataFrame(rows)\n",
        "\n",
        "# Save the DataFrame to a CSV file\n",
        "csv_file_path = 'air_pollution_data.csv'\n",
        "df.to_csv(csv_file_path, index=False)\n",
        "\n",
        "print(\"CSV file has been created successfully.\")\n",
        "\n"
      ],
      "metadata": {
        "colab": {
          "base_uri": "https://localhost:8080/"
        },
        "id": "tc7MEeVtte6t",
        "outputId": "b9fac9ea-05e4-4290-b672-9cdb19a84902"
      },
      "execution_count": 11,
      "outputs": [
        {
          "output_type": "stream",
          "name": "stdout",
          "text": [
            "CSV file has been created successfully.\n"
          ]
        }
      ]
    },
    {
      "cell_type": "code",
      "source": [
        "import requests\n",
        "import json\n",
        "import os\n",
        "\n",
        "# Define a list of latitude and longitude for Massachusetts counties\n",
        "counties = {\n",
        "    \"Barnstable\": (41.7504, -70.2020),\n",
        "    \"Berkshire\": (42.4477, -73.2526),\n",
        "    \"Bristol\": (41.7992, -71.1553),\n",
        "    \"Dukes\": (41.3882, -70.6058),\n",
        "    \"Essex\": (42.6403, -70.8290),\n",
        "    \"Franklin\": (42.5876, -72.6022),\n",
        "    \"Hampden\": (42.1015, -72.6462),\n",
        "    \"Hampshire\": (42.2916, -72.6087),\n",
        "    \"Middlesex\": (42.4375, -71.2425),\n",
        "    \"Nantucket\": (41.2835, -70.0995),\n",
        "    \"Norfolk\": (42.1331, -71.1975),\n",
        "    \"Plymouth\": (41.9080, -70.3650),\n",
        "    \"Suffolk\": (42.3601, -71.0589),\n",
        "    \"Worcester\": (42.2626, -71.8023)\n",
        "}\n",
        "\n",
        "# API Key\n",
        "api_key = 'KEY'  # Replace with your actual OpenWeatherMap API key\n",
        "\n",
        "# Define start and end timestamps\n",
        "start_timestamp = 1640995200  # January 1, 2022\n",
        "end_timestamp = 1729939200    # October 30, 2024\n",
        "\n",
        "# Create a directory to save JSON files\n",
        "output_dir = 'ma_air_pollution_history'\n",
        "os.makedirs(output_dir, exist_ok=True)\n",
        "\n",
        "# Make requests for each county and save the response\n",
        "for county, (lat, lon) in counties.items():\n",
        "    # Construct the API request URL\n",
        "    url = f'https://api.openweathermap.org/data/2.5/air_pollution/history?lat={lat}&lon={lon}&start={start_timestamp}&end={end_timestamp}&appid={api_key}'\n",
        "\n",
        "    # Make the API request\n",
        "    response = requests.get(url)\n",
        "\n",
        "    if response.status_code == 200:\n",
        "        # Save the response JSON to a file\n",
        "        json_file_path = os.path.join(output_dir, f'{county}_air_pollution_history.json')\n",
        "        with open(json_file_path, 'w') as json_file:\n",
        "            json.dump(response.json(), json_file, indent=4)\n",
        "        print(f'Successfully saved historical data for {county} to {json_file_path}.')\n",
        "    else:\n",
        "        print(f'Failed to retrieve data for {county}: {response.status_code} - {response.text}')\n"
      ],
      "metadata": {
        "colab": {
          "base_uri": "https://localhost:8080/"
        },
        "id": "apVg9hKevhAE",
        "outputId": "945410d0-d829-4b3c-cb3a-cbf2468dde18"
      },
      "execution_count": 14,
      "outputs": [
        {
          "output_type": "stream",
          "name": "stdout",
          "text": [
            "Successfully saved historical data for Barnstable to ma_air_pollution_history/Barnstable_air_pollution_history.json.\n",
            "Successfully saved historical data for Berkshire to ma_air_pollution_history/Berkshire_air_pollution_history.json.\n",
            "Successfully saved historical data for Bristol to ma_air_pollution_history/Bristol_air_pollution_history.json.\n",
            "Successfully saved historical data for Dukes to ma_air_pollution_history/Dukes_air_pollution_history.json.\n",
            "Successfully saved historical data for Essex to ma_air_pollution_history/Essex_air_pollution_history.json.\n",
            "Successfully saved historical data for Franklin to ma_air_pollution_history/Franklin_air_pollution_history.json.\n",
            "Successfully saved historical data for Hampden to ma_air_pollution_history/Hampden_air_pollution_history.json.\n",
            "Successfully saved historical data for Hampshire to ma_air_pollution_history/Hampshire_air_pollution_history.json.\n",
            "Successfully saved historical data for Middlesex to ma_air_pollution_history/Middlesex_air_pollution_history.json.\n",
            "Successfully saved historical data for Nantucket to ma_air_pollution_history/Nantucket_air_pollution_history.json.\n",
            "Successfully saved historical data for Norfolk to ma_air_pollution_history/Norfolk_air_pollution_history.json.\n",
            "Successfully saved historical data for Plymouth to ma_air_pollution_history/Plymouth_air_pollution_history.json.\n",
            "Successfully saved historical data for Suffolk to ma_air_pollution_history/Suffolk_air_pollution_history.json.\n",
            "Successfully saved historical data for Worcester to ma_air_pollution_history/Worcester_air_pollution_history.json.\n"
          ]
        }
      ]
    },
    {
      "cell_type": "code",
      "source": [
        "import pandas as pd\n",
        "import json\n",
        "import os\n",
        "\n",
        "# Directory containing the JSON files\n",
        "json_directory = 'ma_air_pollution_history'\n",
        "\n",
        "# Loop through all JSON files in the directory\n",
        "for json_file in os.listdir(json_directory):\n",
        "    if json_file.endswith('.json'):\n",
        "        json_file_path = os.path.join(json_directory, json_file)\n",
        "\n",
        "        # Load the JSON file\n",
        "        with open(json_file_path, 'r') as file:\n",
        "            data = json.load(file)\n",
        "\n",
        "        # Extract the list of air quality entries from the JSON data\n",
        "        entries = data.get(\"list\", [])\n",
        "\n",
        "        # Create a DataFrame with the desired columns\n",
        "        df = pd.DataFrame(columns=[\"dt\", \"aqi\", \"co\", \"no\", \"no2\", \"o3\", \"so2\", \"pm2_5\", \"pm10\", \"nh3\"])\n",
        "\n",
        "        # Populate the DataFrame\n",
        "        rows = []  # List to collect row dictionaries\n",
        "\n",
        "        for entry in entries:\n",
        "            # Extract each required field\n",
        "            row = {\n",
        "                \"dt\": pd.to_datetime(entry[\"dt\"], unit='s', utc=True),  # Convert to UTC datetime\n",
        "                \"aqi\": entry[\"main\"][\"aqi\"],\n",
        "                \"co\": entry[\"components\"].get(\"co\", \"\"),\n",
        "                \"no\": entry[\"components\"].get(\"no\", \"\"),\n",
        "                \"no2\": entry[\"components\"].get(\"no2\", \"\"),\n",
        "                \"o3\": entry[\"components\"].get(\"o3\", \"\"),\n",
        "                \"so2\": entry[\"components\"].get(\"so2\", \"\"),\n",
        "                \"pm2_5\": entry[\"components\"].get(\"pm2_5\", \"\"),\n",
        "                \"pm10\": entry[\"components\"].get(\"pm10\", \"\"),\n",
        "                \"nh3\": entry[\"components\"].get(\"nh3\", \"\")\n",
        "            }\n",
        "            rows.append(row)  # Collect each row dictionary\n",
        "\n",
        "        # Create DataFrame from the collected rows\n",
        "        df = pd.DataFrame(rows)\n",
        "\n",
        "        # Generate CSV file name by replacing .json with .csv\n",
        "        csv_file_name = json_file.replace('.json', '.csv')\n",
        "        csv_file_path = os.path.join(json_directory, csv_file_name)\n",
        "\n",
        "        # Save the DataFrame to a CSV file\n",
        "        df.to_csv(csv_file_path, index=False)\n",
        "\n",
        "        print(f\"CSV file '{csv_file_name}' has been created successfully.\")\n"
      ],
      "metadata": {
        "colab": {
          "base_uri": "https://localhost:8080/"
        },
        "id": "o7QGplRBw5J9",
        "outputId": "f91d0b1d-aad2-41c9-8496-72b44ec537ac"
      },
      "execution_count": 16,
      "outputs": [
        {
          "output_type": "stream",
          "name": "stdout",
          "text": [
            "CSV file 'Hampden_air_pollution_history.csv' has been created successfully.\n",
            "CSV file 'Worcester_air_pollution_history.csv' has been created successfully.\n",
            "CSV file 'Barnstable_air_pollution_history.csv' has been created successfully.\n",
            "CSV file 'Essex_air_pollution_history.csv' has been created successfully.\n",
            "CSV file 'Bristol_air_pollution_history.csv' has been created successfully.\n",
            "CSV file 'Franklin_air_pollution_history.csv' has been created successfully.\n",
            "CSV file 'Nantucket_air_pollution_history.csv' has been created successfully.\n",
            "CSV file 'Plymouth_air_pollution_history.csv' has been created successfully.\n",
            "CSV file 'Suffolk_air_pollution_history.csv' has been created successfully.\n",
            "CSV file 'Norfolk_air_pollution_history.csv' has been created successfully.\n",
            "CSV file 'Middlesex_air_pollution_history.csv' has been created successfully.\n",
            "CSV file 'Berkshire_air_pollution_history.csv' has been created successfully.\n",
            "CSV file 'Dukes_air_pollution_history.csv' has been created successfully.\n",
            "CSV file 'Hampshire_air_pollution_history.csv' has been created successfully.\n"
          ]
        }
      ]
    },
    {
      "cell_type": "code",
      "source": [
        "from google.colab import drive\n",
        "drive.mount('/content/drive')"
      ],
      "metadata": {
        "id": "hhkVD1X7xfi9"
      },
      "execution_count": null,
      "outputs": []
    }
  ]
}