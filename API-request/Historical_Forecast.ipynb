{
 "cells": [
  {
   "cell_type": "markdown",
   "metadata": {
    "colab_type": "text",
    "id": "view-in-github"
   },
   "source": [
    "<a href=\"https://colab.research.google.com/github/Rohit-hooda/DS5110-Final-Project/blob/main/Data_Extraction.ipynb\" target=\"_parent\"><img src=\"https://colab.research.google.com/assets/colab-badge.svg\" alt=\"Open In Colab\"/></a>"
   ]
  },
  {
   "cell_type": "code",
   "execution_count": 3,
   "metadata": {
    "id": "O-ipompPXgZ0"
   },
   "outputs": [
    {
     "name": "stdout",
     "output_type": "stream",
     "text": [
      "Requirement already satisfied: openmeteo-requests in /Users/triwatana/miniconda3/lib/python3.11/site-packages (1.3.0)\n",
      "Requirement already satisfied: openmeteo-sdk>=1.4.0 in /Users/triwatana/miniconda3/lib/python3.11/site-packages (from openmeteo-requests) (1.18.0)\n",
      "Requirement already satisfied: requests in /Users/triwatana/miniconda3/lib/python3.11/site-packages (from openmeteo-requests) (2.29.0)\n",
      "Requirement already satisfied: flatbuffers>=24.0.0 in /Users/triwatana/miniconda3/lib/python3.11/site-packages (from openmeteo-sdk>=1.4.0->openmeteo-requests) (24.3.25)\n",
      "Requirement already satisfied: charset-normalizer<4,>=2 in /Users/triwatana/miniconda3/lib/python3.11/site-packages (from requests->openmeteo-requests) (2.0.4)\n",
      "Requirement already satisfied: idna<4,>=2.5 in /Users/triwatana/miniconda3/lib/python3.11/site-packages (from requests->openmeteo-requests) (3.4)\n",
      "Requirement already satisfied: urllib3<1.27,>=1.21.1 in /Users/triwatana/miniconda3/lib/python3.11/site-packages (from requests->openmeteo-requests) (1.26.16)\n",
      "Requirement already satisfied: certifi>=2017.4.17 in /Users/triwatana/miniconda3/lib/python3.11/site-packages (from requests->openmeteo-requests) (2023.7.22)\n",
      "Note: you may need to restart the kernel to use updated packages.\n"
     ]
    }
   ],
   "source": [
    "pip install openmeteo-requests"
   ]
  },
  {
   "cell_type": "code",
   "execution_count": 4,
   "metadata": {
    "id": "sDFU5uoiXc3O"
   },
   "outputs": [
    {
     "name": "stdout",
     "output_type": "stream",
     "text": [
      "Requirement already satisfied: requests-cache in /Users/triwatana/miniconda3/lib/python3.11/site-packages (1.2.1)\n",
      "Requirement already satisfied: retry-requests in /Users/triwatana/miniconda3/lib/python3.11/site-packages (2.0.0)\n",
      "Requirement already satisfied: numpy in /Users/triwatana/miniconda3/lib/python3.11/site-packages (1.25.2)\n",
      "Requirement already satisfied: pandas in /Users/triwatana/miniconda3/lib/python3.11/site-packages (2.1.0)\n",
      "Requirement already satisfied: attrs>=21.2 in /Users/triwatana/miniconda3/lib/python3.11/site-packages (from requests-cache) (23.1.0)\n",
      "Requirement already satisfied: cattrs>=22.2 in /Users/triwatana/miniconda3/lib/python3.11/site-packages (from requests-cache) (24.1.2)\n",
      "Requirement already satisfied: platformdirs>=2.5 in /Users/triwatana/miniconda3/lib/python3.11/site-packages (from requests-cache) (3.10.0)\n",
      "Requirement already satisfied: requests>=2.22 in /Users/triwatana/miniconda3/lib/python3.11/site-packages (from requests-cache) (2.29.0)\n",
      "Requirement already satisfied: url-normalize>=1.4 in /Users/triwatana/miniconda3/lib/python3.11/site-packages (from requests-cache) (1.4.3)\n",
      "Requirement already satisfied: urllib3>=1.25.5 in /Users/triwatana/miniconda3/lib/python3.11/site-packages (from requests-cache) (1.26.16)\n",
      "Requirement already satisfied: python-dateutil>=2.8.2 in /Users/triwatana/miniconda3/lib/python3.11/site-packages (from pandas) (2.8.2)\n",
      "Requirement already satisfied: pytz>=2020.1 in /Users/triwatana/miniconda3/lib/python3.11/site-packages (from pandas) (2023.3.post1)\n",
      "Requirement already satisfied: tzdata>=2022.1 in /Users/triwatana/miniconda3/lib/python3.11/site-packages (from pandas) (2023.3)\n",
      "Requirement already satisfied: six>=1.5 in /Users/triwatana/miniconda3/lib/python3.11/site-packages (from python-dateutil>=2.8.2->pandas) (1.16.0)\n",
      "Requirement already satisfied: charset-normalizer<4,>=2 in /Users/triwatana/miniconda3/lib/python3.11/site-packages (from requests>=2.22->requests-cache) (2.0.4)\n",
      "Requirement already satisfied: idna<4,>=2.5 in /Users/triwatana/miniconda3/lib/python3.11/site-packages (from requests>=2.22->requests-cache) (3.4)\n",
      "Requirement already satisfied: certifi>=2017.4.17 in /Users/triwatana/miniconda3/lib/python3.11/site-packages (from requests>=2.22->requests-cache) (2023.7.22)\n",
      "Note: you may need to restart the kernel to use updated packages.\n"
     ]
    }
   ],
   "source": [
    "pip install requests-cache retry-requests numpy pandas"
   ]
  },
  {
   "cell_type": "code",
   "execution_count": 5,
   "metadata": {
    "colab": {
     "base_uri": "https://localhost:8080/"
    },
    "id": "kkNZEyIxUmzM",
    "outputId": "e55b1bb7-b893-436a-d533-f15bc663c0d9"
   },
   "outputs": [
    {
     "name": "stdout",
     "output_type": "stream",
     "text": [
      "Data has been saved to massachusetts_counties_weather_data.csv\n"
     ]
    }
   ],
   "source": [
    "import openmeteo_requests\n",
    "import requests_cache\n",
    "import pandas as pd\n",
    "from retry_requests import retry\n",
    "\n",
    "# Setup the Open-Meteo API client with cache and retry on error\n",
    "cache_session = requests_cache.CachedSession('.cache', expire_after=36000)\n",
    "retry_session = retry(cache_session, retries=5, backoff_factor=0.2)\n",
    "openmeteo = openmeteo_requests.Client(session=retry_session)\n",
    "\n",
    "coordinates_list = [\n",
    "    {\"latitude\": 41.7003, \"longitude\": -70.3002, \"county\": \"Barnstable\"},\n",
    "    {\"latitude\": 42.3118, \"longitude\": -73.1822, \"county\": \"Berkshire\"},\n",
    "    {\"latitude\": 41.7938, \"longitude\": -71.1350, \"county\": \"Bristol\"},\n",
    "    {\"latitude\": 41.4033, \"longitude\": -70.6693, \"county\": \"Dukes\"},\n",
    "    {\"latitude\": 42.6334, \"longitude\": -70.7829, \"county\": \"Essex\"},\n",
    "    {\"latitude\": 42.5795, \"longitude\": -72.6151, \"county\": \"Franklin\"},\n",
    "    {\"latitude\": 42.1175, \"longitude\": -72.6009, \"county\": \"Hampden\"},\n",
    "    {\"latitude\": 42.3389, \"longitude\": -72.6417, \"county\": \"Hampshire\"},\n",
    "    {\"latitude\": 42.4672, \"longitude\": -71.2874, \"county\": \"Middlesex\"},\n",
    "    {\"latitude\": 41.2835, \"longitude\": -70.0995, \"county\": \"Nantucket\"},\n",
    "    {\"latitude\": 42.1621, \"longitude\": -71.1912, \"county\": \"Norfolk\"},\n",
    "    {\"latitude\": 41.9880, \"longitude\": -70.7528, \"county\": \"Plymouth\"},\n",
    "    {\"latitude\": 42.3601, \"longitude\": -71.0589, \"county\": \"Suffolk\"},\n",
    "    {\"latitude\": 42.4002, \"longitude\": -71.9065, \"county\": \"Worcester\"}\n",
    "]\n",
    "\n",
    "all_dataframes = []\n",
    "\n",
    "def fetch_weather_data(latitude, longitude, county_name):\n",
    "    url = \"https://historical-forecast-api.open-meteo.com/v1/forecast\"\n",
    "    params = {\n",
    "        \"latitude\": latitude,\n",
    "        \"longitude\": longitude,\n",
    "        \"start_date\": \"2022-01-01\",\n",
    "        \"end_date\": \"2024-10-30\",\n",
    "        \"daily\": [\"weather_code\", \"temperature_2m_max\", \"temperature_2m_min\", \"sunrise\", \"sunset\",\n",
    "                  \"daylight_duration\", \"sunshine_duration\", \"uv_index_max\", \"uv_index_clear_sky_max\",\n",
    "                  \"precipitation_sum\", \"rain_sum\", \"showers_sum\", \"snowfall_sum\",\n",
    "                  \"precipitation_hours\", \"precipitation_probability_max\", \"wind_speed_10m_max\", \"wind_gusts_10m_max\"],\n",
    "        \"timezone\": \"America/New_York\",\n",
    "        \"temperature_unit\": \"fahrenheit\",\n",
    "\t    \"wind_speed_unit\": \"mph\",\n",
    "\t    \"precipitation_unit\": \"inch\"\n",
    "    }\n",
    "    responses = openmeteo.weather_api(url, params=params)\n",
    "\n",
    "    response = responses[0]\n",
    "\n",
    "    daily = response.Daily()\n",
    "    daily_data = {\n",
    "        \"date\": pd.date_range(\n",
    "            start=pd.to_datetime(daily.Time(), unit=\"s\", utc=True),\n",
    "            end=pd.to_datetime(daily.TimeEnd(), unit=\"s\", utc=True),\n",
    "            freq=pd.Timedelta(seconds=daily.Interval()),\n",
    "            inclusive=\"left\"\n",
    "        ),\n",
    "        \"county\": county_name,\n",
    "        \"latitude\": latitude,\n",
    "        \"longitude\": longitude,\n",
    "        \"weather_code\": daily.Variables(0).ValuesAsNumpy(),\n",
    "        \"temperature_2m_max\": daily.Variables(1).ValuesAsNumpy(),\n",
    "        \"temperature_2m_min\": daily.Variables(2).ValuesAsNumpy(),\n",
    "        \"sunrise\": daily.Variables(3).ValuesAsNumpy(),\n",
    "        \"sunset\": daily.Variables(4).ValuesAsNumpy(),\n",
    "        \"daylight_duration\": daily.Variables(5).ValuesAsNumpy(),\n",
    "        \"sunshine_duration\": daily.Variables(6).ValuesAsNumpy(),\n",
    "        \"uv_index_max\": daily.Variables(7).ValuesAsNumpy(),\n",
    "        \"uv_index_clear_sky_max\": daily.Variables(8).ValuesAsNumpy(),\n",
    "        \"precipitation_sum\": daily.Variables(9).ValuesAsNumpy(),\n",
    "        \"rain_sum\": daily.Variables(10).ValuesAsNumpy(),\n",
    "        \"showers_sum\": daily.Variables(11).ValuesAsNumpy(),\n",
    "        \"snowfall_sum\": daily.Variables(12).ValuesAsNumpy(),\n",
    "        \"precipitation_hours\": daily.Variables(13).ValuesAsNumpy(),\n",
    "        \"precipitation_probability_max\": daily.Variables(14).ValuesAsNumpy(),\n",
    "        \"wind_speed_10m_max\": daily.Variables(15).ValuesAsNumpy(),\n",
    "        \"wind_gusts_10m_max\": daily.Variables(16).ValuesAsNumpy()\n",
    "    }\n",
    "    \n",
    "    daily_dataframe = pd.DataFrame(data=daily_data)\n",
    "    all_dataframes.append(daily_dataframe)\n",
    "\n",
    "for coords in coordinates_list:\n",
    "    fetch_weather_data(coords[\"latitude\"], coords[\"longitude\"], coords[\"county\"])\n",
    "\n",
    "final_dataframe = pd.concat(all_dataframes, ignore_index=True)\n",
    "\n",
    "# Export to CSV\n",
    "final_dataframe.to_csv(\"../Dataset/raw_data/massachusetts_counties_weather_data.csv\", index=False)\n",
    "print(\"Data has been saved to massachusetts_counties_weather_data.csv\")\n"
   ]
  },
  {
   "cell_type": "code",
   "execution_count": 2,
   "metadata": {},
   "outputs": [
    {
     "name": "stdout",
     "output_type": "stream",
     "text": [
      "Data for year 2022 has been saved to ../Dataset/raw_data/2022_massachusetts_counties_weather_data.csv\n",
      "Data for year 2023 has been saved to ../Dataset/raw_data/2023_massachusetts_counties_weather_data.csv\n",
      "Data for year 2024 has been saved to ../Dataset/raw_data/2024_massachusetts_counties_weather_data.csv\n"
     ]
    }
   ],
   "source": [
    "import pandas as pd\n",
    "\n",
    "# Read the original CSV file\n",
    "df = pd.read_csv(\"../Dataset/raw_data/massachusetts_counties_weather_data.csv\")\n",
    "\n",
    "# Extract the year from the date column\n",
    "df['Year'] = pd.to_datetime(df['date']).dt.year\n",
    "\n",
    "# Split the data into separate dataframes for each year\n",
    "dfs = {}\n",
    "for year in range(2022, 2025):\n",
    "    dfs[year] = df[df['Year'] == year]\n",
    "\n",
    "# Save each dataframe to a separate CSV file with the year attached to the filename\n",
    "for year, df_year in dfs.items():\n",
    "    filename = f\"../Dataset/raw_data/{year}_massachusetts_counties_weather_data.csv\"\n",
    "    df_year.to_csv(filename, index=False)\n",
    "    print(f\"Data for year {year} has been saved to {filename}\")\n"
   ]
  },
  {
   "cell_type": "markdown",
   "metadata": {
    "id": "kYjNHAAW13A6"
   },
   "source": [
    "AQI API Data Link https://openweathermap.org/api"
   ]
  },
  {
   "cell_type": "code",
   "execution_count": 3,
   "metadata": {
    "colab": {
     "base_uri": "https://localhost:8080/"
    },
    "id": "apVg9hKevhAE",
    "outputId": "48fe13a0-005a-4619-95ab-3870b8a1928b"
   },
   "outputs": [
    {
     "name": "stdout",
     "output_type": "stream",
     "text": [
      "Failed to retrieve data for Barnstable: 401 - {\"cod\":401, \"message\": \"Invalid API key. Please see https://openweathermap.org/faq#error401 for more info.\"}\n",
      "Failed to retrieve data for Berkshire: 401 - {\"cod\":401, \"message\": \"Invalid API key. Please see https://openweathermap.org/faq#error401 for more info.\"}\n",
      "Failed to retrieve data for Bristol: 401 - {\"cod\":401, \"message\": \"Invalid API key. Please see https://openweathermap.org/faq#error401 for more info.\"}\n",
      "Failed to retrieve data for Dukes: 401 - {\"cod\":401, \"message\": \"Invalid API key. Please see https://openweathermap.org/faq#error401 for more info.\"}\n",
      "Failed to retrieve data for Essex: 401 - {\"cod\":401, \"message\": \"Invalid API key. Please see https://openweathermap.org/faq#error401 for more info.\"}\n",
      "Failed to retrieve data for Franklin: 401 - {\"cod\":401, \"message\": \"Invalid API key. Please see https://openweathermap.org/faq#error401 for more info.\"}\n",
      "Failed to retrieve data for Hampden: 401 - {\"cod\":401, \"message\": \"Invalid API key. Please see https://openweathermap.org/faq#error401 for more info.\"}\n",
      "Failed to retrieve data for Hampshire: 401 - {\"cod\":401, \"message\": \"Invalid API key. Please see https://openweathermap.org/faq#error401 for more info.\"}\n",
      "Failed to retrieve data for Middlesex: 401 - {\"cod\":401, \"message\": \"Invalid API key. Please see https://openweathermap.org/faq#error401 for more info.\"}\n",
      "Failed to retrieve data for Nantucket: 401 - {\"cod\":401, \"message\": \"Invalid API key. Please see https://openweathermap.org/faq#error401 for more info.\"}\n",
      "Failed to retrieve data for Norfolk: 401 - {\"cod\":401, \"message\": \"Invalid API key. Please see https://openweathermap.org/faq#error401 for more info.\"}\n",
      "Failed to retrieve data for Plymouth: 401 - {\"cod\":401, \"message\": \"Invalid API key. Please see https://openweathermap.org/faq#error401 for more info.\"}\n",
      "Failed to retrieve data for Suffolk: 401 - {\"cod\":401, \"message\": \"Invalid API key. Please see https://openweathermap.org/faq#error401 for more info.\"}\n",
      "Failed to retrieve data for Worcester: 401 - {\"cod\":401, \"message\": \"Invalid API key. Please see https://openweathermap.org/faq#error401 for more info.\"}\n"
     ]
    }
   ],
   "source": [
    "import requests\n",
    "import json\n",
    "import os\n",
    "\n",
    "counties = {\n",
    "    \"Barnstable\": (41.7504, -70.2020),\n",
    "    \"Berkshire\": (42.4477, -73.2526),\n",
    "    \"Bristol\": (41.7992, -71.1553),\n",
    "    \"Dukes\": (41.3882, -70.6058),\n",
    "    \"Essex\": (42.6403, -70.8290),\n",
    "    \"Franklin\": (42.5876, -72.6022),\n",
    "    \"Hampden\": (42.1015, -72.6462),\n",
    "    \"Hampshire\": (42.2916, -72.6087),\n",
    "    \"Middlesex\": (42.4375, -71.2425),\n",
    "    \"Nantucket\": (41.2835, -70.0995),\n",
    "    \"Norfolk\": (42.1331, -71.1975),\n",
    "    \"Plymouth\": (41.9080, -70.3650),\n",
    "    \"Suffolk\": (42.3601, -71.0589),\n",
    "    \"Worcester\": (42.2626, -71.8023)\n",
    "}\n",
    "\n",
    "api_key = 'KEY' \n",
    "\n",
    "start_timestamp = 1640995200  # January 1, 2022\n",
    "end_timestamp = 1729939200    # October 30, 2024\n",
    "\n",
    "output_dir = 'ma_air_pollution_history'\n",
    "os.makedirs(output_dir, exist_ok=True)\n",
    "\n",
    "for county, (lat, lon) in counties.items():\n",
    "    url = f'https://api.openweathermap.org/data/2.5/air_pollution/history?lat={lat}&lon={lon}&start={start_timestamp}&end={end_timestamp}&appid={api_key}'\n",
    "\n",
    "    response = requests.get(url)\n",
    "\n",
    "    if response.status_code == 200:\n",
    "        json_file_path = os.path.join(output_dir, f'{county}_air_pollution_history.json')\n",
    "        with open(json_file_path, 'w') as json_file:\n",
    "            json.dump(response.json(), json_file, indent=4)\n",
    "        print(f'Successfully saved historical data for {county} to {json_file_path}.')\n",
    "    else:\n",
    "        print(f'Failed to retrieve data for {county}: {response.status_code} - {response.text}')\n"
   ]
  },
  {
   "cell_type": "code",
   "execution_count": null,
   "metadata": {
    "colab": {
     "base_uri": "https://localhost:8080/"
    },
    "id": "o7QGplRBw5J9",
    "outputId": "6988e9ff-d00a-4925-b2d6-f5dc5a5916a7"
   },
   "outputs": [
    {
     "name": "stdout",
     "output_type": "stream",
     "text": [
      "CSV file 'Hampden_air_pollution_history.csv' has been created successfully.\n",
      "CSV file 'Worcester_air_pollution_history.csv' has been created successfully.\n",
      "CSV file 'Barnstable_air_pollution_history.csv' has been created successfully.\n",
      "CSV file 'Essex_air_pollution_history.csv' has been created successfully.\n",
      "CSV file 'Bristol_air_pollution_history.csv' has been created successfully.\n",
      "CSV file 'Franklin_air_pollution_history.csv' has been created successfully.\n",
      "CSV file 'Nantucket_air_pollution_history.csv' has been created successfully.\n",
      "CSV file 'Plymouth_air_pollution_history.csv' has been created successfully.\n",
      "CSV file 'Suffolk_air_pollution_history.csv' has been created successfully.\n",
      "CSV file 'Norfolk_air_pollution_history.csv' has been created successfully.\n",
      "CSV file 'Middlesex_air_pollution_history.csv' has been created successfully.\n",
      "CSV file 'Berkshire_air_pollution_history.csv' has been created successfully.\n",
      "CSV file 'Dukes_air_pollution_history.csv' has been created successfully.\n",
      "CSV file 'Hampshire_air_pollution_history.csv' has been created successfully.\n"
     ]
    }
   ],
   "source": [
    "import pandas as pd\n",
    "import json\n",
    "import os\n",
    "\n",
    "json_directory = 'ma_air_pollution_history'\n",
    "\n",
    "for json_file in os.listdir(json_directory):\n",
    "    if json_file.endswith('.json'):\n",
    "        json_file_path = os.path.join(json_directory, json_file)\n",
    "\n",
    "        with open(json_file_path, 'r') as file:\n",
    "            data = json.load(file)\n",
    "\n",
    "        entries = data.get(\"list\", [])\n",
    "\n",
    "        df = pd.DataFrame(columns=[\"dt\", \"aqi\", \"co\", \"no\", \"no2\", \"o3\", \"so2\", \"pm2_5\", \"pm10\", \"nh3\"])\n",
    "\n",
    "        rows = []  \n",
    "\n",
    "        for entry in entries:\n",
    "            row = {\n",
    "                \"dt\": pd.to_datetime(entry[\"dt\"], unit='s', utc=True),\n",
    "                \"aqi\": entry[\"main\"][\"aqi\"],\n",
    "                \"co\": entry[\"components\"].get(\"co\", \"\"),\n",
    "                \"no\": entry[\"components\"].get(\"no\", \"\"),\n",
    "                \"no2\": entry[\"components\"].get(\"no2\", \"\"),\n",
    "                \"o3\": entry[\"components\"].get(\"o3\", \"\"),\n",
    "                \"so2\": entry[\"components\"].get(\"so2\", \"\"),\n",
    "                \"pm2_5\": entry[\"components\"].get(\"pm2_5\", \"\"),\n",
    "                \"pm10\": entry[\"components\"].get(\"pm10\", \"\"),\n",
    "                \"nh3\": entry[\"components\"].get(\"nh3\", \"\")\n",
    "            }\n",
    "            rows.append(row)  \n",
    "\n",
    "        df = pd.DataFrame(rows)\n",
    "\n",
    "        csv_file_name = json_file.replace('.json', '.csv')\n",
    "        csv_file_path = os.path.join(json_directory, csv_file_name)\n",
    "\n",
    "        df.to_csv(csv_file_path, index=False)\n",
    "\n",
    "        print(f\"CSV file '{csv_file_name}' has been created successfully.\")\n"
   ]
  }
 ],
 "metadata": {
  "colab": {
   "authorship_tag": "ABX9TyMAZPXFVJpKwsIdnC11mQw0",
   "include_colab_link": true,
   "mount_file_id": "1ELGgZx_YSEIlqtYZKWjWvUyJAPrbrt-C",
   "provenance": []
  },
  "kernelspec": {
   "display_name": "base",
   "language": "python",
   "name": "python3"
  },
  "language_info": {
   "codemirror_mode": {
    "name": "ipython",
    "version": 3
   },
   "file_extension": ".py",
   "mimetype": "text/x-python",
   "name": "python",
   "nbconvert_exporter": "python",
   "pygments_lexer": "ipython3",
   "version": "3.11.4"
  }
 },
 "nbformat": 4,
 "nbformat_minor": 0
}
