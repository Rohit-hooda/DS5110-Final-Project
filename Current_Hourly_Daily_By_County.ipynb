{
  "cells": [
    {
      "cell_type": "code",
      "execution_count": null,
      "metadata": {
        "id": "O-ipompPXgZ0"
      },
      "outputs": [],
      "source": [
        "# pip install openmeteo-requests"
      ]
    },
    {
      "cell_type": "code",
      "execution_count": null,
      "metadata": {
        "id": "sDFU5uoiXc3O"
      },
      "outputs": [],
      "source": [
        "# pip install requests-cache retry-requests numpy pandas"
      ]
    },
    {
      "cell_type": "code",
      "execution_count": 3,
      "metadata": {
        "id": "kkNZEyIxUmzM"
      },
      "outputs": [],
      "source": [
        "import openmeteo_requests\n",
        "import requests_cache\n",
        "import pandas as pd\n",
        "from retry_requests import retry\n",
        "import os\n",
        "\n",
        "# Setup the Open-Meteo API client with cache and retry on error\n",
        "cache_session = requests_cache.CachedSession('.cache', expire_after=3600)\n",
        "retry_session = retry(cache_session, retries=5, backoff_factor=0.2)\n",
        "openmeteo = openmeteo_requests.Client(session=retry_session)\n",
        "\n",
        "# List of coordinates (latitude and longitude) for each MA county\n",
        "ma_counties_coordinates = [\n",
        "    {\"county_name\": \"Barnstable\", \"latitude\": 41.7003, \"longitude\": -70.3002},\n",
        "    {\"county_name\": \"Berkshire\", \"latitude\": 42.3118, \"longitude\": -73.1822},\n",
        "    {\"county_name\": \"Bristol\", \"latitude\": 41.7938, \"longitude\": -71.1350},\n",
        "    {\"county_name\": \"Dukes\", \"latitude\": 41.4033, \"longitude\": -70.6693},\n",
        "    {\"county_name\": \"Essex\", \"latitude\": 42.6334, \"longitude\": -70.7829},\n",
        "    {\"county_name\": \"Franklin\", \"latitude\": 42.5795, \"longitude\": -72.6151},\n",
        "    {\"county_name\": \"Hampden\", \"latitude\": 42.1175, \"longitude\": -72.6009},\n",
        "    {\"county_name\": \"Hampshire\", \"latitude\": 42.3389, \"longitude\": -72.6417},\n",
        "    {\"county_name\": \"Middlesex\", \"latitude\": 42.4672, \"longitude\": -71.2874},\n",
        "    {\"county_name\": \"Nantucket\", \"latitude\": 41.2835, \"longitude\": -70.0995},\n",
        "    {\"county_name\": \"Norfolk\", \"latitude\": 42.1621, \"longitude\": -71.1912},\n",
        "    {\"county_name\": \"Plymouth\", \"latitude\": 41.9880, \"longitude\": -70.7528},\n",
        "    {\"county_name\": \"Suffolk\", \"latitude\": 42.3601, \"longitude\": -71.0589},\n",
        "    {\"county_name\": \"Worcester\", \"latitude\": 42.4002, \"longitude\": -71.9065}\n",
        "]\n",
        "\n",
        "# Dictionary to store weather data by county\n",
        "county_weather_data = {}\n",
        "\n",
        "# Function to fetch and process weather data for a given set of coordinates\n",
        "def fetch_weather_data(county_name, latitude, longitude):\n",
        "    url = \"https://api.open-meteo.com/v1/forecast\"\n",
        "    params = {\n",
        "        \"latitude\": latitude,\n",
        "        \"longitude\": longitude,\n",
        "        \"current\": [\"temperature_2m\", \"relative_humidity_2m\", \"precipitation\", \"weather_code\", \"cloud_cover\", \"wind_speed_10m\", \"wind_direction_10m\", \"wind_gusts_10m\"],\n",
        "\t    \"daily\": [\"weather_code\", \"temperature_2m_max\", \"temperature_2m_min\", \"sunrise\", \"sunset\", \"uv_index_max\", \"precipitation_probability_max\", \"wind_speed_10m_max\", \"wind_gusts_10m_max\"],\n",
        "        \"timezone\": \"America/New_York\",\n",
        "        \"forecast_days\": 7\n",
        "    }\n",
        "    responses = openmeteo.weather_api(url, params=params)\n",
        "\n",
        "    # Process the response for the given coordinates\n",
        "    response = responses[0]\n",
        "\n",
        "    # Process current data\n",
        "    current = response.Current()\n",
        "    current_data = [{\n",
        "        \"date\": pd.to_datetime(current.Time(), unit=\"s\", utc=True),\n",
        "        \"county\": county_name,\n",
        "        \"latitude\": latitude,\n",
        "        \"longitude\": longitude,\n",
        "        \"temperature_2m\": current.Variables(0).ValuesAsNumpy(),\n",
        "        \"relative_humidity_2m\": current.Variables(1).ValuesAsNumpy(),\n",
        "        \"precipitation\": current.Variables(2).ValuesAsNumpy(),\n",
        "        \"weather_code\": current.Variables(3).ValuesAsNumpy(),\n",
        "        \"cloud_cover\": current.Variables(4).ValuesAsNumpy(),\n",
        "        \"wind_speed_10m\": current.Variables(5).ValuesAsNumpy(),\n",
        "        \"wind_direction_10m\": current.Variables(6).ValuesAsNumpy(),\n",
        "        \"wind_gusts_10m\": current.Variables(7).ValuesAsNumpy()\n",
        "    }]\n",
        "    current_df = pd.DataFrame.from_records(current_data, index='date')\n",
        "\n",
        "\n",
        "    # Process daily data\n",
        "    daily = response.Daily()\n",
        "    daily_data = {\n",
        "        \"date\": pd.date_range(\n",
        "            start=pd.to_datetime(daily.Time(), unit=\"s\", utc=True),\n",
        "            end=pd.to_datetime(daily.TimeEnd(), unit=\"s\", utc=True),\n",
        "            freq=pd.Timedelta(seconds=daily.Interval()),\n",
        "            inclusive=\"left\"\n",
        "        ),\n",
        "        \"county\": county_name,\n",
        "        \"latitude\": latitude,\n",
        "        \"longitude\": longitude,\n",
        "        \"weather_code\": daily.Variables(0).ValuesAsNumpy(),\n",
        "        \"temperature_2m_max\": daily.Variables(1).ValuesAsNumpy(),\n",
        "        \"temperature_2m_min\": daily.Variables(2).ValuesAsNumpy(),\n",
        "        \"sunrise\": daily.Variables(3).ValuesAsNumpy(),\n",
        "        \"sunset\": daily.Variables(4).ValuesAsNumpy(),\n",
        "        \"uv_index_max\": daily.Variables(5).ValuesAsNumpy(),\n",
        "        \"precipitation_probability_max\": daily.Variables(6).ValuesAsNumpy(),\n",
        "        \"wind_speed_10m_max\": daily.Variables(7).ValuesAsNumpy(),\n",
        "        \"wind_gusts_10m_max\": daily.Variables(8).ValuesAsNumpy()\n",
        "    }\n",
        "    daily_df = pd.DataFrame(daily_data)\n",
        "\n",
        "    # Store DataFrames in the dictionary by county\n",
        "    county_weather_data[county_name] = {\n",
        "        \"current\": current_df,\n",
        "        \"daily\": daily_df\n",
        "    }\n",
        "\n",
        "# Loop through each set of coordinates and fetch weather data\n",
        "for county in ma_counties_coordinates:\n",
        "    fetch_weather_data(county[\"county_name\"], county[\"latitude\"], county[\"longitude\"])"
      ]
    },
    {
      "cell_type": "code",
      "execution_count": 5,
      "metadata": {
        "colab": {
          "base_uri": "https://localhost:8080/"
        },
        "id": "LVQ9ohoVJmAr",
        "outputId": "91d37b25-5c17-44cd-a567-7f258a8b6c0e"
      },
      "outputs": [
        {
          "name": "stdout",
          "output_type": "stream",
          "text": [
            "Data for Barnstable (current) saved to dataset/county_weather_data/Barnstable_current.csv\n",
            "Data for Barnstable (daily) saved to dataset/county_weather_data/Barnstable_daily.csv\n",
            "Data for Berkshire (current) saved to dataset/county_weather_data/Berkshire_current.csv\n",
            "Data for Berkshire (daily) saved to dataset/county_weather_data/Berkshire_daily.csv\n",
            "Data for Bristol (current) saved to dataset/county_weather_data/Bristol_current.csv\n",
            "Data for Bristol (daily) saved to dataset/county_weather_data/Bristol_daily.csv\n",
            "Data for Dukes (current) saved to dataset/county_weather_data/Dukes_current.csv\n",
            "Data for Dukes (daily) saved to dataset/county_weather_data/Dukes_daily.csv\n",
            "Data for Essex (current) saved to dataset/county_weather_data/Essex_current.csv\n",
            "Data for Essex (daily) saved to dataset/county_weather_data/Essex_daily.csv\n",
            "Data for Franklin (current) saved to dataset/county_weather_data/Franklin_current.csv\n",
            "Data for Franklin (daily) saved to dataset/county_weather_data/Franklin_daily.csv\n",
            "Data for Hampden (current) saved to dataset/county_weather_data/Hampden_current.csv\n",
            "Data for Hampden (daily) saved to dataset/county_weather_data/Hampden_daily.csv\n",
            "Data for Hampshire (current) saved to dataset/county_weather_data/Hampshire_current.csv\n",
            "Data for Hampshire (daily) saved to dataset/county_weather_data/Hampshire_daily.csv\n",
            "Data for Middlesex (current) saved to dataset/county_weather_data/Middlesex_current.csv\n",
            "Data for Middlesex (daily) saved to dataset/county_weather_data/Middlesex_daily.csv\n",
            "Data for Nantucket (current) saved to dataset/county_weather_data/Nantucket_current.csv\n",
            "Data for Nantucket (daily) saved to dataset/county_weather_data/Nantucket_daily.csv\n",
            "Data for Norfolk (current) saved to dataset/county_weather_data/Norfolk_current.csv\n",
            "Data for Norfolk (daily) saved to dataset/county_weather_data/Norfolk_daily.csv\n",
            "Data for Plymouth (current) saved to dataset/county_weather_data/Plymouth_current.csv\n",
            "Data for Plymouth (daily) saved to dataset/county_weather_data/Plymouth_daily.csv\n",
            "Data for Suffolk (current) saved to dataset/county_weather_data/Suffolk_current.csv\n",
            "Data for Suffolk (daily) saved to dataset/county_weather_data/Suffolk_daily.csv\n",
            "Data for Worcester (current) saved to dataset/county_weather_data/Worcester_current.csv\n",
            "Data for Worcester (daily) saved to dataset/county_weather_data/Worcester_daily.csv\n",
            "All data exported to CSV files.\n"
          ]
        }
      ],
      "source": [
        "# Create a directory to store CSV files\n",
        "output_dir = 'dataset/county_weather_data/'\n",
        "os.makedirs(output_dir, exist_ok=True)\n",
        "\n",
        "# Iterate through counties and data types\n",
        "for county_name, data_types in county_weather_data.items():\n",
        "    for data_type, data in data_types.items():\n",
        "        # Create DataFrame from the data\n",
        "        df = pd.DataFrame(data)\n",
        "\n",
        "        # Construct CSV file path\n",
        "        csv_file_path = os.path.join(output_dir, f\"{county_name}_{data_type}.csv\")\n",
        "\n",
        "        # Export to CSV\n",
        "        df.to_csv(csv_file_path, index=False)\n",
        "\n",
        "        print(f\"Data for {county_name} ({data_type}) saved to {csv_file_path}\")\n",
        "\n",
        "print(\"All data exported to CSV files.\")"
      ]
    }
  ],
  "metadata": {
    "colab": {
      "provenance": []
    },
    "kernelspec": {
      "display_name": "Python 3",
      "name": "python3"
    },
    "language_info": {
      "codemirror_mode": {
        "name": "ipython",
        "version": 3
      },
      "file_extension": ".py",
      "mimetype": "text/x-python",
      "name": "python",
      "nbconvert_exporter": "python",
      "pygments_lexer": "ipython3",
      "version": "3.12.4"
    }
  },
  "nbformat": 4,
  "nbformat_minor": 0
}
